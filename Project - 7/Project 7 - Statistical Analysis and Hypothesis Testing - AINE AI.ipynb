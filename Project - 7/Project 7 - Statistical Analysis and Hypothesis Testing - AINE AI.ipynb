{
 "cells": [
  {
   "cell_type": "markdown",
   "id": "18df64a5",
   "metadata": {},
   "source": [
    "![1562645454906.png](data:image/png;base64,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)\n",
    "# Virtual Internship Program by AINE AI\n",
    "## Statistical Analysis and Hypothesis Testing\n",
    "### Project : Increasing YoY revenue from game purchases by increasing retention rate of gamers\n",
    "\n",
    "**About the project:** \n",
    "The project involves working on data related to Cookie Cats – a hugely popular puzzle game. As players progress through the levels of the game, they will occasionally encounter gates that force them to wait a non-trivial amount of time or make an in app purchase to progress. In addition to driving in-app purchases, these gates serve the important purpose of giving players an enforced break from playing the game, hopefully resulting in the player&#39;s enjoyment of the game being increased and prolonged. But where should the gates be placed and how the placement of the gates can retain the players for more time.\n",
    "\n",
    "*The project requires you to:*\n",
    "1. Perform exploratory data analysis of the given datasets and generate their statistical summary.\n",
    "2. Perform A/B testing between the two groups of data to analyze the impact on player retention if the first gate in Cookie Cats is moved from level 30 to level 40.\n",
    "\n",
    "**Objectives/Exercise:**\n",
    "The overall objective of the project is to test the company’s CEO’s hypothesis that moving the first gate from level 30 to level 40 increases retention rate and the number of game rounds played. The CEO believes that players are churning because the first gate encountered at level 30 is too early which forces players to wait before they can proceed further in the game.\n",
    "\n",
    "In order to increase player retention rate, developers ran AB-test by moving the first gate from level 30 to level 40 for some players i.e.,\n",
    "- group A would encounter the gate at level 30, and\n",
    "- group B would encounter the gate at level 40\n",
    "To achieve the overall objectives, this work plan can help:\n",
    "1. Perform initial data preparation.\n",
    "2. Generate statistical summary and plot charts to answer:\n",
    "    a. What is the overall 7-day retention rate of the game?\n",
    "    b. How many players never played the game after installing it?\n",
    "    c. Does the number of players decrease as the levels become difficult?\n",
    "3. Generate crosstab for two player groups to understand the difference in the 1- day and 7-days retention rate and total number of game rounds played.\n",
    "4. Perform two-sample test for groups A and B to test statistical significance amongst the groups in the sum of game rounds played. Here, you can:\n",
    "    ● Check the assumptions of two sample test:\n",
    "    ○ i. Normal distribution – Apply Shapiro test\n",
    "    ○ ii. Homogeneity of variance – Apply\n",
    "    Levene’s test\n",
    "        ● Apply the relevant two sample significance test method based on the results from the tests for normality and homogeneity\n",
    "5. Analyze the significance of the test results and decide which level has more advantage in terms of player retention?\n",
    "6. Use bootstrap resampling to plot retention rate distribution for both groups to visualize the effect of different versions of the game on retention."
   ]
  },
  {
   "cell_type": "markdown",
   "id": "7c9d44ef",
   "metadata": {},
   "source": [
    "## Packages & Setup"
   ]
  },
  {
   "cell_type": "code",
   "execution_count": 1,
   "id": "4a22527c",
   "metadata": {},
   "outputs": [],
   "source": [
    "import numpy as np\n",
    "import pandas as pd \n",
    "import seaborn as sns\n",
    "import matplotlib.pyplot as plt\n",
    "import os\n",
    "\n",
    "from scipy.stats import shapiro\n",
    "import scipy.stats as stats\n",
    "\n",
    "#parameter settings\n",
    "from IPython.core.interactiveshell import InteractiveShell\n",
    "InteractiveShell.ast_node_interactivity = \"all\"\n",
    "import warnings\n",
    "warnings.filterwarnings(\"ignore\")\n",
    "warnings.simplefilter(action='ignore', category=FutureWarning)"
   ]
  },
  {
   "cell_type": "code",
   "execution_count": 2,
   "id": "74d55d11",
   "metadata": {},
   "outputs": [
    {
     "name": "stdout",
     "output_type": "stream",
     "text": [
      "Data types for the data set:\n"
     ]
    },
    {
     "data": {
      "text/plain": [
       "userid             int64\n",
       "version           object\n",
       "sum_gamerounds     int64\n",
       "retention_1         bool\n",
       "retention_7         bool\n",
       "dtype: object"
      ]
     },
     "execution_count": 2,
     "metadata": {},
     "output_type": "execute_result"
    },
    {
     "name": "stdout",
     "output_type": "stream",
     "text": [
      "Shape of the data i.e. no. of rows and columns\n"
     ]
    },
    {
     "data": {
      "text/plain": [
       "(90189, 5)"
      ]
     },
     "execution_count": 2,
     "metadata": {},
     "output_type": "execute_result"
    },
    {
     "name": "stdout",
     "output_type": "stream",
     "text": [
      "First 5 rows of the raw data:\n"
     ]
    },
    {
     "data": {
      "text/html": [
       "<div>\n",
       "<style scoped>\n",
       "    .dataframe tbody tr th:only-of-type {\n",
       "        vertical-align: middle;\n",
       "    }\n",
       "\n",
       "    .dataframe tbody tr th {\n",
       "        vertical-align: top;\n",
       "    }\n",
       "\n",
       "    .dataframe thead th {\n",
       "        text-align: right;\n",
       "    }\n",
       "</style>\n",
       "<table border=\"1\" class=\"dataframe\">\n",
       "  <thead>\n",
       "    <tr style=\"text-align: right;\">\n",
       "      <th></th>\n",
       "      <th>userid</th>\n",
       "      <th>version</th>\n",
       "      <th>sum_gamerounds</th>\n",
       "      <th>retention_1</th>\n",
       "      <th>retention_7</th>\n",
       "    </tr>\n",
       "  </thead>\n",
       "  <tbody>\n",
       "    <tr>\n",
       "      <th>0</th>\n",
       "      <td>116</td>\n",
       "      <td>gate_30</td>\n",
       "      <td>3</td>\n",
       "      <td>False</td>\n",
       "      <td>False</td>\n",
       "    </tr>\n",
       "    <tr>\n",
       "      <th>1</th>\n",
       "      <td>337</td>\n",
       "      <td>gate_30</td>\n",
       "      <td>38</td>\n",
       "      <td>True</td>\n",
       "      <td>False</td>\n",
       "    </tr>\n",
       "    <tr>\n",
       "      <th>2</th>\n",
       "      <td>377</td>\n",
       "      <td>gate_40</td>\n",
       "      <td>165</td>\n",
       "      <td>True</td>\n",
       "      <td>False</td>\n",
       "    </tr>\n",
       "    <tr>\n",
       "      <th>3</th>\n",
       "      <td>483</td>\n",
       "      <td>gate_40</td>\n",
       "      <td>1</td>\n",
       "      <td>False</td>\n",
       "      <td>False</td>\n",
       "    </tr>\n",
       "    <tr>\n",
       "      <th>4</th>\n",
       "      <td>488</td>\n",
       "      <td>gate_40</td>\n",
       "      <td>179</td>\n",
       "      <td>True</td>\n",
       "      <td>True</td>\n",
       "    </tr>\n",
       "  </tbody>\n",
       "</table>\n",
       "</div>"
      ],
      "text/plain": [
       "   userid  version  sum_gamerounds  retention_1  retention_7\n",
       "0     116  gate_30               3        False        False\n",
       "1     337  gate_30              38         True        False\n",
       "2     377  gate_40             165         True        False\n",
       "3     483  gate_40               1        False        False\n",
       "4     488  gate_40             179         True         True"
      ]
     },
     "execution_count": 2,
     "metadata": {},
     "output_type": "execute_result"
    }
   ],
   "source": [
    "user_df = pd.read_csv(\"K:\\KaustavR25\\WORK\\AINE AI - Intern\\Cookie-Cats\\cookie_cats.csv\")\n",
    "\n",
    "#data types of data\n",
    "print(\"Data types for the data set:\")\n",
    "user_df.dtypes\n",
    "\n",
    "#dimension of data \n",
    "print(\"Shape of the data i.e. no. of rows and columns\")\n",
    "user_df.shape\n",
    "\n",
    "#first 5 rows of the data\n",
    "print(\"First 5 rows of the raw data:\")\n",
    "user_df.head(5)"
   ]
  },
  {
   "cell_type": "markdown",
   "id": "adf339de",
   "metadata": {},
   "source": [
    "## Q1. Detect and resolve problems in the data (Missing value, Outliers, etc.)"
   ]
  },
  {
   "cell_type": "markdown",
   "id": "715aae5e",
   "metadata": {},
   "source": [
    "### Q1.1 Identify missing value"
   ]
  },
  {
   "cell_type": "code",
   "execution_count": 3,
   "id": "ddb2c3da",
   "metadata": {},
   "outputs": [
    {
     "data": {
      "text/html": [
       "<div>\n",
       "<style scoped>\n",
       "    .dataframe tbody tr th:only-of-type {\n",
       "        vertical-align: middle;\n",
       "    }\n",
       "\n",
       "    .dataframe tbody tr th {\n",
       "        vertical-align: top;\n",
       "    }\n",
       "\n",
       "    .dataframe thead th {\n",
       "        text-align: right;\n",
       "    }\n",
       "</style>\n",
       "<table border=\"1\" class=\"dataframe\">\n",
       "  <thead>\n",
       "    <tr style=\"text-align: right;\">\n",
       "      <th></th>\n",
       "      <th>userid</th>\n",
       "      <th>version</th>\n",
       "      <th>sum_gamerounds</th>\n",
       "      <th>retention_1</th>\n",
       "      <th>retention_7</th>\n",
       "    </tr>\n",
       "  </thead>\n",
       "  <tbody>\n",
       "    <tr>\n",
       "      <th>0</th>\n",
       "      <td>False</td>\n",
       "      <td>False</td>\n",
       "      <td>False</td>\n",
       "      <td>False</td>\n",
       "      <td>False</td>\n",
       "    </tr>\n",
       "    <tr>\n",
       "      <th>1</th>\n",
       "      <td>False</td>\n",
       "      <td>False</td>\n",
       "      <td>False</td>\n",
       "      <td>False</td>\n",
       "      <td>False</td>\n",
       "    </tr>\n",
       "    <tr>\n",
       "      <th>2</th>\n",
       "      <td>False</td>\n",
       "      <td>False</td>\n",
       "      <td>False</td>\n",
       "      <td>False</td>\n",
       "      <td>False</td>\n",
       "    </tr>\n",
       "    <tr>\n",
       "      <th>3</th>\n",
       "      <td>False</td>\n",
       "      <td>False</td>\n",
       "      <td>False</td>\n",
       "      <td>False</td>\n",
       "      <td>False</td>\n",
       "    </tr>\n",
       "    <tr>\n",
       "      <th>4</th>\n",
       "      <td>False</td>\n",
       "      <td>False</td>\n",
       "      <td>False</td>\n",
       "      <td>False</td>\n",
       "      <td>False</td>\n",
       "    </tr>\n",
       "    <tr>\n",
       "      <th>...</th>\n",
       "      <td>...</td>\n",
       "      <td>...</td>\n",
       "      <td>...</td>\n",
       "      <td>...</td>\n",
       "      <td>...</td>\n",
       "    </tr>\n",
       "    <tr>\n",
       "      <th>90184</th>\n",
       "      <td>False</td>\n",
       "      <td>False</td>\n",
       "      <td>False</td>\n",
       "      <td>False</td>\n",
       "      <td>False</td>\n",
       "    </tr>\n",
       "    <tr>\n",
       "      <th>90185</th>\n",
       "      <td>False</td>\n",
       "      <td>False</td>\n",
       "      <td>False</td>\n",
       "      <td>False</td>\n",
       "      <td>False</td>\n",
       "    </tr>\n",
       "    <tr>\n",
       "      <th>90186</th>\n",
       "      <td>False</td>\n",
       "      <td>False</td>\n",
       "      <td>False</td>\n",
       "      <td>False</td>\n",
       "      <td>False</td>\n",
       "    </tr>\n",
       "    <tr>\n",
       "      <th>90187</th>\n",
       "      <td>False</td>\n",
       "      <td>False</td>\n",
       "      <td>False</td>\n",
       "      <td>False</td>\n",
       "      <td>False</td>\n",
       "    </tr>\n",
       "    <tr>\n",
       "      <th>90188</th>\n",
       "      <td>False</td>\n",
       "      <td>False</td>\n",
       "      <td>False</td>\n",
       "      <td>False</td>\n",
       "      <td>False</td>\n",
       "    </tr>\n",
       "  </tbody>\n",
       "</table>\n",
       "<p>90189 rows × 5 columns</p>\n",
       "</div>"
      ],
      "text/plain": [
       "       userid  version  sum_gamerounds  retention_1  retention_7\n",
       "0       False    False           False        False        False\n",
       "1       False    False           False        False        False\n",
       "2       False    False           False        False        False\n",
       "3       False    False           False        False        False\n",
       "4       False    False           False        False        False\n",
       "...       ...      ...             ...          ...          ...\n",
       "90184   False    False           False        False        False\n",
       "90185   False    False           False        False        False\n",
       "90186   False    False           False        False        False\n",
       "90187   False    False           False        False        False\n",
       "90188   False    False           False        False        False\n",
       "\n",
       "[90189 rows x 5 columns]"
      ]
     },
     "execution_count": 3,
     "metadata": {},
     "output_type": "execute_result"
    }
   ],
   "source": [
    "user_df.isnull()"
   ]
  },
  {
   "cell_type": "code",
   "execution_count": 4,
   "id": "71889bae",
   "metadata": {},
   "outputs": [
    {
     "data": {
      "text/plain": [
       "userid            0\n",
       "version           0\n",
       "sum_gamerounds    0\n",
       "retention_1       0\n",
       "retention_7       0\n",
       "dtype: int64"
      ]
     },
     "execution_count": 4,
     "metadata": {},
     "output_type": "execute_result"
    }
   ],
   "source": [
    "user_df.isnull().sum()"
   ]
  },
  {
   "cell_type": "markdown",
   "id": "6325ea4f",
   "metadata": {},
   "source": [
    "### Identify outliers"
   ]
  },
  {
   "cell_type": "code",
   "execution_count": 5,
   "id": "de4817c1",
   "metadata": {},
   "outputs": [
    {
     "data": {
      "text/plain": [
       "Text(0.5, 1.0, 'Total gamerounds played')"
      ]
     },
     "execution_count": 5,
     "metadata": {},
     "output_type": "execute_result"
    },
    {
     "data": {
      "text/plain": [
       "Text(0.5, 0, 'Index')"
      ]
     },
     "execution_count": 5,
     "metadata": {},
     "output_type": "execute_result"
    },
    {
     "data": {
      "text/plain": [
       "Text(0, 0.5, 'sum_gamerounds')"
      ]
     },
     "execution_count": 5,
     "metadata": {},
     "output_type": "execute_result"
    },
    {
     "data": {
      "text/plain": [
       "[<matplotlib.lines.Line2D at 0x127b2740820>]"
      ]
     },
     "execution_count": 5,
     "metadata": {},
     "output_type": "execute_result"
    },
    {
     "data": {
      "image/png": "[encoded data removed]",
      "text/plain": [
       "<Figure size 432x288 with 1 Axes>"
      ]
     },
     "metadata": {
      "needs_background": "light"
     },
     "output_type": "display_data"
    }
   ],
   "source": [
    "#Check for outlier values in sum_gamerounds column\n",
    "plt.title(\"Total gamerounds played\")\n",
    "plt.xlabel(\"Index\")\n",
    "plt.ylabel(\"sum_gamerounds\")\n",
    "plt.plot(user_df.sum_gamerounds)"
   ]
  },
  {
   "cell_type": "code",
   "execution_count": 6,
   "id": "bc40aef4",
   "metadata": {},
   "outputs": [
    {
     "data": {
      "text/plain": [
       "49854"
      ]
     },
     "execution_count": 6,
     "metadata": {},
     "output_type": "execute_result"
    }
   ],
   "source": [
    "user_df.sum_gamerounds.max()"
   ]
  },
  {
   "cell_type": "code",
   "execution_count": 7,
   "id": "4fb04881",
   "metadata": {},
   "outputs": [
    {
     "name": "stdout",
     "output_type": "stream",
     "text": [
      "Int64Index([57702], dtype='int64')\n"
     ]
    }
   ],
   "source": [
    "index = user_df.index\n",
    "condition = (user_df[\"sum_gamerounds\"] == user_df.sum_gamerounds.max())\n",
    "\n",
    "outliers = index[condition]\n",
    "\n",
    "print(outliers)\n"
   ]
  },
  {
   "cell_type": "code",
   "execution_count": 8,
   "id": "36de8402",
   "metadata": {},
   "outputs": [],
   "source": [
    "user_df = user_df.drop(index=57702)"
   ]
  },
  {
   "cell_type": "code",
   "execution_count": 9,
   "id": "c734918b",
   "metadata": {},
   "outputs": [
    {
     "data": {
      "text/html": [
       "<div>\n",
       "<style scoped>\n",
       "    .dataframe tbody tr th:only-of-type {\n",
       "        vertical-align: middle;\n",
       "    }\n",
       "\n",
       "    .dataframe tbody tr th {\n",
       "        vertical-align: top;\n",
       "    }\n",
       "\n",
       "    .dataframe thead th {\n",
       "        text-align: right;\n",
       "    }\n",
       "</style>\n",
       "<table border=\"1\" class=\"dataframe\">\n",
       "  <thead>\n",
       "    <tr style=\"text-align: right;\">\n",
       "      <th></th>\n",
       "      <th>userid</th>\n",
       "      <th>version</th>\n",
       "      <th>sum_gamerounds</th>\n",
       "      <th>retention_1</th>\n",
       "      <th>retention_7</th>\n",
       "    </tr>\n",
       "  </thead>\n",
       "  <tbody>\n",
       "    <tr>\n",
       "      <th>0</th>\n",
       "      <td>116</td>\n",
       "      <td>gate_30</td>\n",
       "      <td>3</td>\n",
       "      <td>False</td>\n",
       "      <td>False</td>\n",
       "    </tr>\n",
       "    <tr>\n",
       "      <th>1</th>\n",
       "      <td>337</td>\n",
       "      <td>gate_30</td>\n",
       "      <td>38</td>\n",
       "      <td>True</td>\n",
       "      <td>False</td>\n",
       "    </tr>\n",
       "    <tr>\n",
       "      <th>2</th>\n",
       "      <td>377</td>\n",
       "      <td>gate_40</td>\n",
       "      <td>165</td>\n",
       "      <td>True</td>\n",
       "      <td>False</td>\n",
       "    </tr>\n",
       "    <tr>\n",
       "      <th>3</th>\n",
       "      <td>483</td>\n",
       "      <td>gate_40</td>\n",
       "      <td>1</td>\n",
       "      <td>False</td>\n",
       "      <td>False</td>\n",
       "    </tr>\n",
       "    <tr>\n",
       "      <th>4</th>\n",
       "      <td>488</td>\n",
       "      <td>gate_40</td>\n",
       "      <td>179</td>\n",
       "      <td>True</td>\n",
       "      <td>True</td>\n",
       "    </tr>\n",
       "    <tr>\n",
       "      <th>...</th>\n",
       "      <td>...</td>\n",
       "      <td>...</td>\n",
       "      <td>...</td>\n",
       "      <td>...</td>\n",
       "      <td>...</td>\n",
       "    </tr>\n",
       "    <tr>\n",
       "      <th>90184</th>\n",
       "      <td>9999441</td>\n",
       "      <td>gate_40</td>\n",
       "      <td>97</td>\n",
       "      <td>True</td>\n",
       "      <td>False</td>\n",
       "    </tr>\n",
       "    <tr>\n",
       "      <th>90185</th>\n",
       "      <td>9999479</td>\n",
       "      <td>gate_40</td>\n",
       "      <td>30</td>\n",
       "      <td>False</td>\n",
       "      <td>False</td>\n",
       "    </tr>\n",
       "    <tr>\n",
       "      <th>90186</th>\n",
       "      <td>9999710</td>\n",
       "      <td>gate_30</td>\n",
       "      <td>28</td>\n",
       "      <td>True</td>\n",
       "      <td>False</td>\n",
       "    </tr>\n",
       "    <tr>\n",
       "      <th>90187</th>\n",
       "      <td>9999768</td>\n",
       "      <td>gate_40</td>\n",
       "      <td>51</td>\n",
       "      <td>True</td>\n",
       "      <td>False</td>\n",
       "    </tr>\n",
       "    <tr>\n",
       "      <th>90188</th>\n",
       "      <td>9999861</td>\n",
       "      <td>gate_40</td>\n",
       "      <td>16</td>\n",
       "      <td>False</td>\n",
       "      <td>False</td>\n",
       "    </tr>\n",
       "  </tbody>\n",
       "</table>\n",
       "<p>90188 rows × 5 columns</p>\n",
       "</div>"
      ],
      "text/plain": [
       "        userid  version  sum_gamerounds  retention_1  retention_7\n",
       "0          116  gate_30               3        False        False\n",
       "1          337  gate_30              38         True        False\n",
       "2          377  gate_40             165         True        False\n",
       "3          483  gate_40               1        False        False\n",
       "4          488  gate_40             179         True         True\n",
       "...        ...      ...             ...          ...          ...\n",
       "90184  9999441  gate_40              97         True        False\n",
       "90185  9999479  gate_40              30        False        False\n",
       "90186  9999710  gate_30              28         True        False\n",
       "90187  9999768  gate_40              51         True        False\n",
       "90188  9999861  gate_40              16        False        False\n",
       "\n",
       "[90188 rows x 5 columns]"
      ]
     },
     "execution_count": 9,
     "metadata": {},
     "output_type": "execute_result"
    }
   ],
   "source": [
    "user_df"
   ]
  },
  {
   "cell_type": "code",
   "execution_count": 10,
   "id": "90e0ef84",
   "metadata": {},
   "outputs": [
    {
     "data": {
      "text/plain": [
       "Text(0.5, 1.0, 'Total gamerounds played')"
      ]
     },
     "execution_count": 10,
     "metadata": {},
     "output_type": "execute_result"
    },
    {
     "data": {
      "text/plain": [
       "Text(0.5, 0, 'Index')"
      ]
     },
     "execution_count": 10,
     "metadata": {},
     "output_type": "execute_result"
    },
    {
     "data": {
      "text/plain": [
       "Text(0, 0.5, 'sum_gamerounds')"
      ]
     },
     "execution_count": 10,
     "metadata": {},
     "output_type": "execute_result"
    },
    {
     "data": {
      "text/plain": [
       "[<matplotlib.lines.Line2D at 0x127b338b670>]"
      ]
     },
     "execution_count": 10,
     "metadata": {},
     "output_type": "execute_result"
    },
    {
     "data": {
      "image/png": "[encoded data removed]",
      "text/plain": [
       "<Figure size 432x288 with 1 Axes>"
      ]
     },
     "metadata": {
      "needs_background": "light"
     },
     "output_type": "display_data"
    }
   ],
   "source": [
    "#Check for outlier values in sum_gamerounds column\n",
    "plt.title(\"Total gamerounds played\")\n",
    "plt.xlabel(\"Index\")\n",
    "plt.ylabel(\"sum_gamerounds\")\n",
    "plt.plot(user_df.sum_gamerounds)"
   ]
  },
  {
   "cell_type": "markdown",
   "id": "c70cc3de",
   "metadata": {},
   "source": [
    "## Q2. Plot summary statistics and identify trends to answer basis business questions"
   ]
  },
  {
   "cell_type": "markdown",
   "id": "8c8bba69",
   "metadata": {},
   "source": [
    "### Q2.1 What is the overall 7-day retention rate of the game?"
   ]
  },
  {
   "cell_type": "code",
   "execution_count": 11,
   "id": "9d66afbc",
   "metadata": {},
   "outputs": [
    {
     "name": "stdout",
     "output_type": "stream",
     "text": [
      "Overal 7 days retention rate of the game for both versions is:  18.60557945624695 %\n"
     ]
    }
   ],
   "source": [
    "#Insert calculation for 7-day retention rate\n",
    "\n",
    "retention_rate_7 = (user_df['retention_7'].mean())*100\n",
    "print(\"Overal 7 days retention rate of the game for both versions is: \" ,retention_rate_7,\"%\")\n"
   ]
  },
  {
   "cell_type": "markdown",
   "id": "bde50c93",
   "metadata": {},
   "source": [
    "### Q2.2 How many players never played the game after installing?"
   ]
  },
  {
   "cell_type": "code",
   "execution_count": 12,
   "id": "17a10588",
   "metadata": {},
   "outputs": [
    {
     "data": {
      "text/plain": [
       "3994"
      ]
     },
     "execution_count": 12,
     "metadata": {},
     "output_type": "execute_result"
    }
   ],
   "source": [
    "sumgameround_zero = len(user_df[user_df.sum_gamerounds == 0].index)\n",
    "sumgameround_zero"
   ]
  },
  {
   "cell_type": "markdown",
   "id": "6e48c521",
   "metadata": {},
   "source": [
    "### Q2.3 Does the number of users decrease as the level progresses highlighting the difficulty of the game?"
   ]
  },
  {
   "cell_type": "code",
   "execution_count": 13,
   "id": "9350501a",
   "metadata": {},
   "outputs": [
    {
     "data": {
      "text/plain": [
       "<AxesSubplot:xlabel='sum_gamerounds'>"
      ]
     },
     "execution_count": 13,
     "metadata": {},
     "output_type": "execute_result"
    },
    {
     "data": {
      "image/png": "[encoded data removed]",
      "text/plain": [
       "<Figure size 432x288 with 1 Axes>"
      ]
     },
     "metadata": {
      "needs_background": "light"
     },
     "output_type": "display_data"
    }
   ],
   "source": [
    "user_df.groupby(\"sum_gamerounds\").userid.count()[:200].plot()"
   ]
  },
  {
   "cell_type": "markdown",
   "id": "72a3df63",
   "metadata": {},
   "source": [
    "## Q3. Generate crosstab for two groups of players to understand if there is a difference in 7 days retention rate & total number of game rounds played"
   ]
  },
  {
   "cell_type": "markdown",
   "id": "d59320b2",
   "metadata": {},
   "source": [
    "### Q3.1 Seven days retention rate summary for different game versions"
   ]
  },
  {
   "cell_type": "code",
   "execution_count": 14,
   "id": "4e1453a3",
   "metadata": {},
   "outputs": [
    {
     "data": {
      "text/html": [
       "<div>\n",
       "<style scoped>\n",
       "    .dataframe tbody tr th:only-of-type {\n",
       "        vertical-align: middle;\n",
       "    }\n",
       "\n",
       "    .dataframe tbody tr th {\n",
       "        vertical-align: top;\n",
       "    }\n",
       "\n",
       "    .dataframe thead th {\n",
       "        text-align: right;\n",
       "    }\n",
       "</style>\n",
       "<table border=\"1\" class=\"dataframe\">\n",
       "  <thead>\n",
       "    <tr style=\"text-align: right;\">\n",
       "      <th>retention_7</th>\n",
       "      <th>False</th>\n",
       "      <th>True</th>\n",
       "    </tr>\n",
       "    <tr>\n",
       "      <th>version</th>\n",
       "      <th></th>\n",
       "      <th></th>\n",
       "    </tr>\n",
       "  </thead>\n",
       "  <tbody>\n",
       "    <tr>\n",
       "      <th>gate_30</th>\n",
       "      <td>0.809817</td>\n",
       "      <td>0.190183</td>\n",
       "    </tr>\n",
       "    <tr>\n",
       "      <th>gate_40</th>\n",
       "      <td>0.818000</td>\n",
       "      <td>0.182000</td>\n",
       "    </tr>\n",
       "  </tbody>\n",
       "</table>\n",
       "</div>"
      ],
      "text/plain": [
       "retention_7     False     True \n",
       "version                        \n",
       "gate_30      0.809817  0.190183\n",
       "gate_40      0.818000  0.182000"
      ]
     },
     "execution_count": 14,
     "metadata": {},
     "output_type": "execute_result"
    }
   ],
   "source": [
    "#cross tab for game version and retention_7 flag counting number of users for each possible categories\n",
    "\n",
    "pd.crosstab(user_df.version, user_df.retention_7).apply(lambda r: r/r.sum(), axis=1)"
   ]
  },
  {
   "cell_type": "markdown",
   "id": "c371b95b",
   "metadata": {},
   "source": [
    "**Analysis Result:-**\n",
    "> Though there is very minimum difference, but the version gate_30 has a higher 7 day retention rate than the gate_40 version"
   ]
  },
  {
   "cell_type": "markdown",
   "id": "8ae851d1",
   "metadata": {},
   "source": [
    "### Q3.2 Gamerounds summary for different game versions"
   ]
  },
  {
   "cell_type": "code",
   "execution_count": 15,
   "id": "428b60f9",
   "metadata": {},
   "outputs": [
    {
     "data": {
      "text/html": [
       "<div>\n",
       "<style scoped>\n",
       "    .dataframe tbody tr th:only-of-type {\n",
       "        vertical-align: middle;\n",
       "    }\n",
       "\n",
       "    .dataframe tbody tr th {\n",
       "        vertical-align: top;\n",
       "    }\n",
       "\n",
       "    .dataframe thead th {\n",
       "        text-align: right;\n",
       "    }\n",
       "</style>\n",
       "<table border=\"1\" class=\"dataframe\">\n",
       "  <thead>\n",
       "    <tr style=\"text-align: right;\">\n",
       "      <th></th>\n",
       "      <th>count</th>\n",
       "      <th>mean</th>\n",
       "    </tr>\n",
       "    <tr>\n",
       "      <th>version</th>\n",
       "      <th></th>\n",
       "      <th></th>\n",
       "    </tr>\n",
       "  </thead>\n",
       "  <tbody>\n",
       "    <tr>\n",
       "      <th>gate_30</th>\n",
       "      <td>44699</td>\n",
       "      <td>51.342111</td>\n",
       "    </tr>\n",
       "    <tr>\n",
       "      <th>gate_40</th>\n",
       "      <td>45489</td>\n",
       "      <td>51.298776</td>\n",
       "    </tr>\n",
       "  </tbody>\n",
       "</table>\n",
       "</div>"
      ],
      "text/plain": [
       "         count       mean\n",
       "version                  \n",
       "gate_30  44699  51.342111\n",
       "gate_40  45489  51.298776"
      ]
     },
     "execution_count": 15,
     "metadata": {},
     "output_type": "execute_result"
    }
   ],
   "source": [
    "user_df.groupby(\"version\").sum_gamerounds.agg([\"count\",\"mean\"])"
   ]
  },
  {
   "cell_type": "markdown",
   "id": "2edb4950",
   "metadata": {},
   "source": [
    "**Analysis Results:-**\n",
    "> The total number of game_rounds player by each player differs slightly based on the version of games.\n",
    "> Though the total no. of gamerounds for version gate_40 is more than gate_30 but the average gamerounds played for gate_30 is a bit more than gate_40."
   ]
  },
  {
   "cell_type": "markdown",
   "id": "4d111425",
   "metadata": {},
   "source": [
    "## Q4. Perform two-sample test for groups A and B to test statistical significance amongst the groups in the sum of game rounds played i.e., if groups A and B are statistically different"
   ]
  },
  {
   "cell_type": "markdown",
   "id": "b59e61a9",
   "metadata": {},
   "source": [
    "### Initial data processing"
   ]
  },
  {
   "cell_type": "code",
   "execution_count": 16,
   "id": "6cb18545",
   "metadata": {},
   "outputs": [],
   "source": [
    "#Define A/B groups for hypothesis testing\n",
    "user_df[\"version\"] = np.where(user_df.version == \"gate_30\", \"A\", \"B\")\n",
    "group_A=pd.DataFrame(user_df[user_df.version==\"A\"]['sum_gamerounds'])\n",
    "group_B=pd.DataFrame(user_df[user_df.version==\"B\"]['sum_gamerounds'])"
   ]
  },
  {
   "cell_type": "markdown",
   "id": "b7d96589",
   "metadata": {},
   "source": [
    "### Q4.1 Shapiro test of Normality\n",
    "The Shapiro-Wilks test for normality is one of three general normality tests designed to detect all departures from normality. \n",
    "\n",
    "The test rejects the hypothesis of normality when the p-value is less than or equal to 0.05.  Failing the normality test allows you to state with 95% confidence the data does not fit the normal distribution.  Passing the normality test only allows you to state no significant departure from normality was found.\n",
    "\n",
    "The Shapiro-Wilks test is not as affected by ties as the Anderson-Darling test, but is still affected. The Skewness-Kurtosis All test is not affected by ties and thus the default test.  "
   ]
  },
  {
   "cell_type": "code",
   "execution_count": 17,
   "id": "8e7c672a",
   "metadata": {},
   "outputs": [],
   "source": [
    "normalityOfA = shapiro(group_A)[1] < 0.05\n",
    "normalityOfB = shapiro(group_B)[1] < 0.05"
   ]
  },
  {
   "cell_type": "code",
   "execution_count": 18,
   "id": "2ab88109",
   "metadata": {},
   "outputs": [
    {
     "data": {
      "text/plain": [
       "True"
      ]
     },
     "execution_count": 18,
     "metadata": {},
     "output_type": "execute_result"
    }
   ],
   "source": [
    "normalityOfA"
   ]
  },
  {
   "cell_type": "code",
   "execution_count": 19,
   "id": "54ec7bac",
   "metadata": {},
   "outputs": [
    {
     "data": {
      "text/plain": [
       "True"
      ]
     },
     "execution_count": 19,
     "metadata": {},
     "output_type": "execute_result"
    }
   ],
   "source": [
    "normalityOfB"
   ]
  },
  {
   "cell_type": "markdown",
   "id": "0d8b2840",
   "metadata": {},
   "source": [
    "**Analysis Results:-**\n",
    "> We can see that the Shapiro test of Normality for both the groups returned 'True' as result, meaning that,--\n",
    ">NULL Hypothesis H0: Distribution is normal is False for both the groups\n",
    ">ALTERNATE Hypothesis H1: Distribution is not normal is True for both teh groups"
   ]
  },
  {
   "cell_type": "markdown",
   "id": "f10a9e7c",
   "metadata": {},
   "source": [
    "### Q4.2 Test of homegienity of variance\n",
    "Equal variances across samples is called homogeneity of variance. Some statistical tests, for example the analysis of variance, assume that variances are equal across groups or samples. The Levene test can be used to verify that assumption."
   ]
  },
  {
   "cell_type": "code",
   "execution_count": 20,
   "id": "4df62d16",
   "metadata": {},
   "outputs": [],
   "source": [
    "def levene_Test(dataframe, group, target):\n",
    "    if (normalityOfA == False) & (normalityOfB == False):\n",
    "\n",
    "            # Assumption: Homogeneity of variances\n",
    "        leveneTest = stats.levene(group_A, group_B)[1] < 0.05\n",
    "            # H0: Homogeneity: False\n",
    "            # H1: Heterogeneous: True\n",
    "\n",
    "        if leveneTest == False:\n",
    "                # Homogeneity\n",
    "                ttest = stats.ttest_ind(group_A, group_B, equal_var=True)[1]\n",
    "                # H0: M1 == M2 - False\n",
    "                # H1: M1 != M2 - True\n",
    "        else:\n",
    "                # Heterogeneous\n",
    "                ttest = stats.ttest_ind(group_A, group_B, equal_var=False)[1]\n",
    "                # H0: M1 == M2 - False\n",
    "                # H1: M1 != M2 - True\n",
    "    else:\n",
    "            # Non-Parametric Test\n",
    "        ttest = stats.mannwhitneyu(group_A, group_B)[1] \n",
    "            # H0: M1 == M2 - False\n",
    "            # H1: M1 != M2 - True\n",
    "\n",
    "        # Result\n",
    "    temp = pd.DataFrame({\n",
    "        \"AB Hypothesis\":[ttest < 0.05], \n",
    "        \"p-value\":[ttest]\n",
    "    })\n",
    "    temp[\"Test Type\"] = np.where((normalityOfA == False) & (normalityOfB == False), \"Parametric\", \"Non-Parametric\")\n",
    "    temp[\"AB Hypothesis\"] = np.where(temp[\"AB Hypothesis\"] == False, \"Fail to Reject H0\", \"Reject H0\")\n",
    "    temp[\"Comment\"] = np.where(temp[\"AB Hypothesis\"] == \"Fail to Reject H0\", \"A/B groups are similar!\", \"A/B groups are not similar!\")\n",
    "\n",
    "        # Columns\n",
    "    if (normalityOfA == False) & (normalityOfB == False):\n",
    "        temp[\"Homogeneity\"] = np.where(leveneTest == False, \"Yes\", \"No\")\n",
    "        temp = temp[[\"Test Type\", \"Homogeneity\",\"AB Hypothesis\", \"p-value\", \"Comment\"]]\n",
    "    else:\n",
    "        temp = temp[[\"Test Type\",\"AB Hypothesis\", \"p-value\", \"Comment\"]]\n",
    "\n",
    "        # Print Hypothesis\n",
    "    print(\"# A/B Testing Hypothesis\")\n",
    "    print(\"H0: A == B\")\n",
    "    print(\"H1: A != B\", \"\\n\")\n",
    "\n",
    "    return temp"
   ]
  },
  {
   "cell_type": "code",
   "execution_count": 21,
   "id": "6bcdc80b",
   "metadata": {},
   "outputs": [
    {
     "name": "stdout",
     "output_type": "stream",
     "text": [
      "# A/B Testing Hypothesis\n",
      "H0: A == B\n",
      "H1: A != B \n",
      "\n"
     ]
    },
    {
     "data": {
      "text/html": [
       "<div>\n",
       "<style scoped>\n",
       "    .dataframe tbody tr th:only-of-type {\n",
       "        vertical-align: middle;\n",
       "    }\n",
       "\n",
       "    .dataframe tbody tr th {\n",
       "        vertical-align: top;\n",
       "    }\n",
       "\n",
       "    .dataframe thead th {\n",
       "        text-align: right;\n",
       "    }\n",
       "</style>\n",
       "<table border=\"1\" class=\"dataframe\">\n",
       "  <thead>\n",
       "    <tr style=\"text-align: right;\">\n",
       "      <th></th>\n",
       "      <th>Test Type</th>\n",
       "      <th>AB Hypothesis</th>\n",
       "      <th>p-value</th>\n",
       "      <th>Comment</th>\n",
       "    </tr>\n",
       "  </thead>\n",
       "  <tbody>\n",
       "    <tr>\n",
       "      <th>0</th>\n",
       "      <td>Non-Parametric</td>\n",
       "      <td>Reject H0</td>\n",
       "      <td>0.025446</td>\n",
       "      <td>A/B groups are not similar!</td>\n",
       "    </tr>\n",
       "  </tbody>\n",
       "</table>\n",
       "</div>"
      ],
      "text/plain": [
       "        Test Type AB Hypothesis   p-value                      Comment\n",
       "0  Non-Parametric     Reject H0  0.025446  A/B groups are not similar!"
      ]
     },
     "execution_count": 21,
     "metadata": {},
     "output_type": "execute_result"
    }
   ],
   "source": [
    "levene_Test(dataframe=user_df, group = \"version\", target = \"sum_gamerounds\")"
   ]
  },
  {
   "cell_type": "markdown",
   "id": "5ed255dd",
   "metadata": {},
   "source": [
    "**Analysis Result:-**\n",
    "> Therefor, we reject the null hypothesis"
   ]
  },
  {
   "cell_type": "markdown",
   "id": "ce933c13",
   "metadata": {},
   "source": [
    "### Q4.3 Test of significance: Two sample test\n",
    "The two-sample t-test (Snedecor and Cochran, 1989) is used to determine if two population means are equal. A common application is to test if a new process or treatment is superior to a current process or treatment."
   ]
  },
  {
   "cell_type": "code",
   "execution_count": 40,
   "id": "0faca523",
   "metadata": {},
   "outputs": [],
   "source": [
    "def twosample_Test(dataframe, group, target):\n",
    "    if (normalityOfA == False) & (normalityOfB == False):\n",
    "\n",
    "            # Assumption: Homogeneity of variances\n",
    "        twosampleTest = stests.ztest(group_A, group_B)[1] < 0.05\n",
    "            # H0: Homogeneity: False\n",
    "            # H1: Heterogeneous: True\n",
    "\n",
    "        if twosampleTest == False:\n",
    "                # Homogeneity\n",
    "                ttest = stats.ttest_ind(group_A, group_B, equal_var=True)[1]\n",
    "                # H0: M1 == M2 - False\n",
    "                # H1: M1 != M2 - True\n",
    "        else:\n",
    "                # Heterogeneous\n",
    "                ttest = stats.ttest_ind(group_A, group_B, equal_var=False)[1]\n",
    "                # H0: M1 == M2 - False\n",
    "                # H1: M1 != M2 - True\n",
    "    else:\n",
    "            # Non-Parametric Test\n",
    "        ttest = stats.mannwhitneyu(group_A, group_B)[1] \n",
    "            # H0: M1 == M2 - False\n",
    "            # H1: M1 != M2 - True\n",
    "\n",
    "        # Result\n",
    "    temp = pd.DataFrame({\n",
    "        \"AB Hypothesis\":[ttest < 0.05], \n",
    "        \"p-value\":[ttest]\n",
    "    })\n",
    "    \n",
    "    \n",
    "    temp[\"Test Type\"] = np.where((normalityOfA == False) & (normalityOfB == False), \"Parametric\", \"Non-Parametric\")\n",
    "    temp[\"AB Hypothesis\"] = np.where(temp[\"AB Hypothesis\"] == False, \"Fail to Reject H0\", \"Reject H0\")\n",
    "    temp[\"Comment\"] = np.where(temp[\"AB Hypothesis\"] == \"Fail to Reject H0\", \"A/B groups are similar!\", \"A/B groups are not similar!\")\n",
    "\n",
    "        # Columns\n",
    "    if (normalityOfA == False) & (normalityOfB == False):\n",
    "        temp[\"Homogeneity\"] = np.where(twosample_Test == False, \"Yes\", \"No\")\n",
    "        temp = temp[[\"Test Type\", \"Homogeneity\",\"AB Hypothesis\", \"p-value\", \"Comment\"]]\n",
    "    else:\n",
    "        temp = temp[[\"Test Type\",\"AB Hypothesis\", \"p-value\", \"Comment\"]]\n",
    "\n",
    "        # Print Hypothesis\n",
    "    print(\"# A/B Testing Hypothesis\")\n",
    "    print(\"H0: A == B\")\n",
    "    print(\"H1: A != B\", \"\\n\")\n",
    "    \n",
    "    return temp"
   ]
  },
  {
   "cell_type": "code",
   "execution_count": 41,
   "id": "2698b9e3",
   "metadata": {},
   "outputs": [
    {
     "name": "stdout",
     "output_type": "stream",
     "text": [
      "# A/B Testing Hypothesis\n",
      "H0: A == B\n",
      "H1: A != B \n",
      "\n"
     ]
    },
    {
     "data": {
      "text/html": [
       "<div>\n",
       "<style scoped>\n",
       "    .dataframe tbody tr th:only-of-type {\n",
       "        vertical-align: middle;\n",
       "    }\n",
       "\n",
       "    .dataframe tbody tr th {\n",
       "        vertical-align: top;\n",
       "    }\n",
       "\n",
       "    .dataframe thead th {\n",
       "        text-align: right;\n",
       "    }\n",
       "</style>\n",
       "<table border=\"1\" class=\"dataframe\">\n",
       "  <thead>\n",
       "    <tr style=\"text-align: right;\">\n",
       "      <th></th>\n",
       "      <th>Test Type</th>\n",
       "      <th>AB Hypothesis</th>\n",
       "      <th>p-value</th>\n",
       "      <th>Comment</th>\n",
       "    </tr>\n",
       "  </thead>\n",
       "  <tbody>\n",
       "    <tr>\n",
       "      <th>0</th>\n",
       "      <td>Non-Parametric</td>\n",
       "      <td>Reject H0</td>\n",
       "      <td>0.025446</td>\n",
       "      <td>A/B groups are not similar!</td>\n",
       "    </tr>\n",
       "  </tbody>\n",
       "</table>\n",
       "</div>"
      ],
      "text/plain": [
       "        Test Type AB Hypothesis   p-value                      Comment\n",
       "0  Non-Parametric     Reject H0  0.025446  A/B groups are not similar!"
      ]
     },
     "execution_count": 41,
     "metadata": {},
     "output_type": "execute_result"
    }
   ],
   "source": [
    "twosample_Test(dataframe=user_df, group = \"version\", target = \"sum_gamerounds\")"
   ]
  },
  {
   "cell_type": "markdown",
   "id": "098598db",
   "metadata": {},
   "source": [
    "**Analysis Result:-**\n",
    "> Therefor, we reject the null hypothesis"
   ]
  },
  {
   "cell_type": "markdown",
   "id": "cacf73f2",
   "metadata": {},
   "source": [
    "## Q5. Based on significance testing results, if groups A and B are statistically different, which level has more advantage in terms of player retention and number of game rounds played"
   ]
  },
  {
   "cell_type": "code",
   "execution_count": 43,
   "id": "97cb8365",
   "metadata": {},
   "outputs": [
    {
     "data": {
      "text/html": [
       "<div>\n",
       "<style scoped>\n",
       "    .dataframe tbody tr th:only-of-type {\n",
       "        vertical-align: middle;\n",
       "    }\n",
       "\n",
       "    .dataframe tbody tr th {\n",
       "        vertical-align: top;\n",
       "    }\n",
       "\n",
       "    .dataframe thead th {\n",
       "        text-align: right;\n",
       "    }\n",
       "</style>\n",
       "<table border=\"1\" class=\"dataframe\">\n",
       "  <thead>\n",
       "    <tr style=\"text-align: right;\">\n",
       "      <th></th>\n",
       "      <th>userid</th>\n",
       "      <th>retention_1</th>\n",
       "      <th>retention_7</th>\n",
       "      <th>sum_gamerounds</th>\n",
       "    </tr>\n",
       "    <tr>\n",
       "      <th>version</th>\n",
       "      <th></th>\n",
       "      <th></th>\n",
       "      <th></th>\n",
       "      <th></th>\n",
       "    </tr>\n",
       "  </thead>\n",
       "  <tbody>\n",
       "    <tr>\n",
       "      <th>A</th>\n",
       "      <td>44699</td>\n",
       "      <td>0.448198</td>\n",
       "      <td>0.190183</td>\n",
       "      <td>2294941</td>\n",
       "    </tr>\n",
       "    <tr>\n",
       "      <th>B</th>\n",
       "      <td>45489</td>\n",
       "      <td>0.442283</td>\n",
       "      <td>0.182000</td>\n",
       "      <td>2333530</td>\n",
       "    </tr>\n",
       "  </tbody>\n",
       "</table>\n",
       "</div>"
      ],
      "text/plain": [
       "         userid  retention_1  retention_7  sum_gamerounds\n",
       "version                                                  \n",
       "A         44699     0.448198     0.190183         2294941\n",
       "B         45489     0.442283     0.182000         2333530"
      ]
     },
     "execution_count": 43,
     "metadata": {},
     "output_type": "execute_result"
    }
   ],
   "source": [
    "# Calculating 1-day and 7-days retention for each A/B group\n",
    "user_df_retention_ab = user_df.groupby(\"version\").agg({\"userid\":\"count\", \"retention_1\":\"mean\",\"retention_7\":\"mean\", \"sum_gamerounds\":\"sum\"})\n",
    "user_df_retention_ab"
   ]
  },
  {
   "cell_type": "markdown",
   "id": "2ff8a81e",
   "metadata": {},
   "source": [
    "**Analysis Result:-**\n",
    "> We can see the 1-day retention rate for gate_40 version is a tid-bit lower than gate_30, also, its same for the 7-day retention rate.\n",
    "\n",
    "> By simply observing this, we can say, that \\the 1-day retention for the version with gate at level 30 is higher, and it is also able to retain the user till the 7th day as a little bit more successfully than the version with gate at level 40.\n",
    "\n",
    "**So the company should not change the gate from level 30 to level 40.**"
   ]
  },
  {
   "cell_type": "markdown",
   "id": "87ab46b8",
   "metadata": {},
   "source": [
    "## Q6. [Bonus Question] Using bootstrap resampling, plot the retention rate distribution for both the groups inorder to visualize effect of different version of the game on retention."
   ]
  },
  {
   "cell_type": "code",
   "execution_count": 44,
   "id": "311bddd2",
   "metadata": {},
   "outputs": [
    {
     "data": {
      "text/plain": [
       "<AxesSubplot:ylabel='Density'>"
      ]
     },
     "execution_count": 44,
     "metadata": {},
     "output_type": "execute_result"
    },
    {
     "data": {
      "text/plain": [
       "Text(0.5, 0, 'retantion rate')"
      ]
     },
     "execution_count": 44,
     "metadata": {},
     "output_type": "execute_result"
    },
    {
     "data": {
      "text/plain": [
       "Text(0, 0.5, 'number of sample')"
      ]
     },
     "execution_count": 44,
     "metadata": {},
     "output_type": "execute_result"
    },
    {
     "data": {
      "text/plain": [
       "Text(0.5, 1.0, '1 day retention rate distribution')"
      ]
     },
     "execution_count": 44,
     "metadata": {},
     "output_type": "execute_result"
    },
    {
     "data": {
      "text/plain": [
       "<AxesSubplot:ylabel='Density'>"
      ]
     },
     "execution_count": 44,
     "metadata": {},
     "output_type": "execute_result"
    },
    {
     "data": {
      "text/plain": [
       "Text(0.5, 0, 'retantion rate')"
      ]
     },
     "execution_count": 44,
     "metadata": {},
     "output_type": "execute_result"
    },
    {
     "data": {
      "text/plain": [
       "Text(0.5, 1.0, '7 days retention rate distribution')"
      ]
     },
     "execution_count": 44,
     "metadata": {},
     "output_type": "execute_result"
    },
    {
     "data": {
      "image/png": "[encoded data removed]",
      "text/plain": [
       "<Figure size 936x360 with 2 Axes>"
      ]
     },
     "metadata": {
      "needs_background": "light"
     },
     "output_type": "display_data"
    }
   ],
   "source": [
    "reten_1d = []\n",
    "reten_7d = []\n",
    "for i in range(500):\n",
    "    reten_mean_1 = user_df.sample(frac=1, replace=True).groupby('version')['retention_1'].mean()\n",
    "    reten_mean_7 = user_df.sample(frac=1, replace=True).groupby('version')['retention_7'].mean()\n",
    "    reten_1d.append(reten_mean_1)\n",
    "    reten_7d.append(reten_mean_7)\n",
    "    \n",
    "# Transforming the list to a DataFrame\n",
    "reten_1d = pd.DataFrame(reten_1d)\n",
    "reten_7d = pd.DataFrame(reten_7d)\n",
    "\n",
    "# Kernel Density Estimate plot of the bootstrap distributions\n",
    "fig, (ax1,ax2) = plt.subplots(1, 2, sharey=True, figsize=(13,5))\n",
    "\n",
    "reten_1d.plot.kde(ax=ax1)\n",
    "ax1.set_xlabel(\"retantion rate\",size=12)\n",
    "ax1.set_ylabel(\"number of sample\",size=12)\n",
    "ax1.set_title(\"1 day retention rate distribution\", fontweight=\"bold\",size=14)\n",
    "\n",
    "reten_7d.plot.kde(ax=ax2)\n",
    "ax2.set_xlabel(\"retantion rate\",size=12)\n",
    "ax2.set_title(\"7 days retention rate distribution\", fontweight=\"bold\",size=14)\n",
    "plt.show()\n"
   ]
  },
  {
   "cell_type": "markdown",
   "id": "802528aa",
   "metadata": {},
   "source": [
    "**Analysis Result:-**\n",
    "> The same result as the above table can be observed here in the graph as well."
   ]
  },
  {
   "cell_type": "code",
   "execution_count": 45,
   "id": "258c1be2",
   "metadata": {},
   "outputs": [
    {
     "data": {
      "text/plain": [
       "<AxesSubplot:ylabel='Density'>"
      ]
     },
     "execution_count": 45,
     "metadata": {},
     "output_type": "execute_result"
    },
    {
     "data": {
      "text/plain": [
       "<AxesSubplot:ylabel='Density'>"
      ]
     },
     "execution_count": 45,
     "metadata": {},
     "output_type": "execute_result"
    },
    {
     "data": {
      "text/plain": [
       "Text(0.5, 0, '% difference')"
      ]
     },
     "execution_count": 45,
     "metadata": {},
     "output_type": "execute_result"
    },
    {
     "data": {
      "text/plain": [
       "Text(0, 0.5, '% density')"
      ]
     },
     "execution_count": 45,
     "metadata": {},
     "output_type": "execute_result"
    },
    {
     "data": {
      "text/plain": [
       "Text(0.5, 1.0, 'Difference in retention \\n between the two A/B groups')"
      ]
     },
     "execution_count": 45,
     "metadata": {},
     "output_type": "execute_result"
    },
    {
     "data": {
      "text/plain": [
       "<matplotlib.legend.Legend at 0x127b655c220>"
      ]
     },
     "execution_count": 45,
     "metadata": {},
     "output_type": "execute_result"
    },
    {
     "data": {
      "image/png": "[encoded data removed]",
      "text/plain": [
       "<Figure size 432x360 with 1 Axes>"
      ]
     },
     "metadata": {
      "needs_background": "light"
     },
     "output_type": "display_data"
    }
   ],
   "source": [
    "reten_1d['diff'] = ((reten_1d['A'] - reten_1d['B']) / reten_1d['B'] * 100)\n",
    "reten_7d['diff'] = ((reten_7d['A'] - reten_7d['B']) / reten_7d['B'] * 100)\n",
    "\n",
    "# Ploting the bootstrap % difference\n",
    "fig, (ax1) = plt.subplots(1, 1,figsize=(6,5))\n",
    "\n",
    "reten_1d['diff'].plot.kde(ax=ax1, c=\"#ff99ff\", label = \"1 day retention\")\n",
    "reten_7d['diff'].plot.kde(ax=ax1, c= \"#00bfff\", label = \"7 days retention\")\n",
    "ax1.set_xlabel(\"% difference\",size=12)\n",
    "ax1.set_ylabel(\"% density\",size=12)\n",
    "ax1.set_title(\"Difference in retention \\n between the two A/B groups\", fontweight=\"bold\", size=14)\n",
    "plt.legend()\n",
    "plt.show()"
   ]
  },
  {
   "cell_type": "markdown",
   "id": "d0c78078",
   "metadata": {},
   "source": [
    "From these chart, we can see that the most likely % difference is around 1% - 2% for 1-day retention. For 7-days retention the most likely % difference is around 2% - 5%. Moreover, the most of the distribution is above 0%, in favor of a gate at level 30."
   ]
  },
  {
   "cell_type": "code",
   "execution_count": 46,
   "id": "6c68e359",
   "metadata": {},
   "outputs": [
    {
     "name": "stdout",
     "output_type": "stream",
     "text": [
      "The probability that 1-day retention is greater when the gate is at level 30: 95.8%       \n",
      "The probability that 7-days retention is greater when the gate is at level 30: 100.0% \n"
     ]
    }
   ],
   "source": [
    "#the probability that 1-day retention is greater when the gate is at level 30\n",
    "prob_1 = (reten_1d['diff']>0).sum()/len(reten_1d['diff'])\n",
    "\n",
    "#the probability that 7-days retention is greater when the gate is at level 30\n",
    "prob_7 = (reten_7d['diff']>0).sum()/len(reten_7d['diff'])\n",
    "\n",
    "# Pretty printing the probability\n",
    "print(f\"The probability that 1-day retention is greater when the gate is at level 30: {(prob_1)*100}% \\\n",
    "      \\nThe probability that 7-days retention is greater when the gate is at level 30: {(prob_7)*100}% \")"
   ]
  },
  {
   "cell_type": "markdown",
   "id": "b6b21769",
   "metadata": {},
   "source": [
    "## Conclusion"
   ]
  },
  {
   "cell_type": "markdown",
   "id": "5b5aba3a",
   "metadata": {},
   "source": [
    "The bootstrap result tells us that there is strong evidence 100% probability that 7-day retention is higher when the gate is at level 30 than when it is at level 40.\n",
    "\n",
    "The conclusion is: If we want to keep retention high — both 1-day and 7-day retention — we should not move the gate from level 30 to level 40. There are, of course, other metrics we could look at, like the number of game rounds played or how much in-game purchases are made by the two AB-groups. But retention is one of the most important metrics."
   ]
  },
  {
   "cell_type": "code",
   "execution_count": null,
   "id": "3e266f5a",
   "metadata": {},
   "outputs": [],
   "source": []
  }
 ],
 "metadata": {
  "kernelspec": {
   "display_name": "Python 3",
   "language": "python",
   "name": "python3"
  },
  "language_info": {
   "codemirror_mode": {
    "name": "ipython",
    "version": 3
   },
   "file_extension": ".py",
   "mimetype": "text/x-python",
   "name": "python",
   "nbconvert_exporter": "python",
   "pygments_lexer": "ipython3",
   "version": "3.8.8"
  }
 },
 "nbformat": 4,
 "nbformat_minor": 5
}
